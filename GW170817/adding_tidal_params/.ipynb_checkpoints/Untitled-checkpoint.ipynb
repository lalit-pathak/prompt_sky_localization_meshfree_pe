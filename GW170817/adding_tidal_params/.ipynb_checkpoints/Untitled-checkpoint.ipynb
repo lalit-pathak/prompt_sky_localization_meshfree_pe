{
 "cells": [
  {
   "cell_type": "code",
   "execution_count": 18,
   "id": "61d1e47b-192b-40f1-a8c9-26ca2c487621",
   "metadata": {},
   "outputs": [],
   "source": [
    "import numpy as np\n",
    "import matplotlib.pyplot as plt\n",
    "from rbf.poly import monomial_count\n",
    "from pycbc.waveform import get_fd_waveform"
   ]
  },
  {
   "cell_type": "code",
   "execution_count": 12,
   "id": "c095dae1-ef14-402a-95d9-bb520a6f4f3e",
   "metadata": {},
   "outputs": [],
   "source": [
    "m1, m2, chi1z, chi2z = 1.4, 1.4, 0.02, 0.02\n",
    "lambda1, lambda2 = 1200, 1200\n",
    "\n",
    "fLow = 20\n",
    "segLen = 256\n",
    "hp, hc = get_fd_waveform(approximant='IMRPhenomD_NRTidalv2', mass1=m1, mass2=m2, spin1z=chi1z, spin2z=chi2z, \\\n",
    "                        f_lower=fLow, delta_f=1/segLen)\n",
    "hp_tid, hc_tid = get_fd_waveform(approximant='IMRPhenomD_NRTidalv2', mass1=m1, mass2=m2, spin1z=chi1z, spin2z=chi2z, \\\n",
    "                        lambda1=lambda1, lambda2=lambda2, f_lower=fLow, delta_f=1/segLen)"
   ]
  },
  {
   "cell_type": "code",
   "execution_count": 19,
   "id": "023f2e99-1411-44b7-a57c-35fc9e61ff93",
   "metadata": {},
   "outputs": [
    {
     "data": {
      "text/plain": [
       "8008"
      ]
     },
     "execution_count": 20,
     "metadata": {},
     "output_type": "execute_result"
    }
   ],
   "source": [
    "monomial_count(7, 6)"
   ]
  },
  {
   "cell_type": "code",
   "execution_count": null,
   "id": "9a1de9e6-a571-48d0-8244-6bfb27b813b2",
   "metadata": {},
   "outputs": [],
   "source": []
  },
  {
   "cell_type": "code",
   "execution_count": null,
   "id": "8653685a-6602-465f-8b01-ba73617daf5a",
   "metadata": {},
   "outputs": [],
   "source": []
  }
 ],
 "metadata": {
  "kernelspec": {
   "display_name": "meshfree_wf_interp",
   "language": "python",
   "name": "meshfree_wf_interp"
  },
  "language_info": {
   "codemirror_mode": {
    "name": "ipython",
    "version": 3
   },
   "file_extension": ".py",
   "mimetype": "text/x-python",
   "name": "python",
   "nbconvert_exporter": "python",
   "pygments_lexer": "ipython3",
   "version": "3.10.12"
  }
 },
 "nbformat": 4,
 "nbformat_minor": 5
}
